{
 "cells": [
  {
   "cell_type": "markdown",
   "metadata": {},
   "source": [
    "# Pandas\n",
    "### Conhecendo a biblioteca Pandas.\n",
    "O Pandas é uma biblioteca Python que fornece estruturas e ferramentas de análise de dados que permite rápida visualização e limpeza de dados e é muito semelhante ao Excel. Além de possuir métodos próprios de visualização de dados. O Pandas é uma biblioteca de código fonte aberto escrita sobre o Numpy e pode trabalhar com dados de diversos tipos diferentes."
   ]
  },
  {
   "cell_type": "markdown",
   "metadata": {},
   "source": [
    "INSTALAÇÃO:\n",
    "Para instalar a biblioteca do Pandas, vá ao seu terminal e digite:\n",
    "\t\t“conda install pandas” ou “pip install pandas”"
   ]
  },
  {
   "cell_type": "markdown",
   "metadata": {},
   "source": [
    "# Series"
   ]
  },
  {
   "cell_type": "markdown",
   "metadata": {},
   "source": [
    "Series é um objeto básico do Pandas, temos a series e o DataFrame.\n",
    "Uma Series é como um array unidimensional, uma lista de valores. Todas series possui um índice(index) que da rótulo a cada elemento da lista.\n",
    "Uma series não se prende ao tipo de dados, podemos ter uma series de dados do tipo string, float, inteiro e até mesmo booleano, dentro outros."
   ]
  },
  {
   "cell_type": "code",
   "execution_count": 1,
   "metadata": {},
   "outputs": [],
   "source": [
    "import pandas as pd\n",
    "import numpy as np"
   ]
  },
  {
   "cell_type": "code",
   "execution_count": 2,
   "metadata": {},
   "outputs": [],
   "source": [
    "labels = [\"a\",\"b\",\"c\"]"
   ]
  },
  {
   "cell_type": "code",
   "execution_count": 3,
   "metadata": {},
   "outputs": [],
   "source": [
    "my_list = [10,20,30]\n",
    "array = np.array([10,20,30])\n",
    "dictionary = {'a':10, 'b':20, 'c':30}"
   ]
  },
  {
   "cell_type": "markdown",
   "metadata": {},
   "source": [
    "Transformar um dos elementos em uma Series."
   ]
  },
  {
   "cell_type": "code",
   "execution_count": 4,
   "metadata": {},
   "outputs": [
    {
     "data": {
      "text/plain": [
       "a    10\n",
       "b    20\n",
       "c    30\n",
       "dtype: int64"
      ]
     },
     "execution_count": 4,
     "metadata": {},
     "output_type": "execute_result"
    }
   ],
   "source": [
    "pd.Series(data = dictionary, index= labels)"
   ]
  },
  {
   "cell_type": "code",
   "execution_count": 5,
   "metadata": {},
   "outputs": [],
   "source": [
    "series = pd.Series(array, labels)"
   ]
  },
  {
   "cell_type": "markdown",
   "metadata": {},
   "source": [
    "Acessar um elemento pelo indice igual acessamos no dicionario."
   ]
  },
  {
   "cell_type": "code",
   "execution_count": 6,
   "metadata": {},
   "outputs": [
    {
     "data": {
      "text/plain": [
       "20"
      ]
     },
     "execution_count": 6,
     "metadata": {},
     "output_type": "execute_result"
    }
   ],
   "source": [
    "series['b']"
   ]
  },
  {
   "cell_type": "code",
   "execution_count": 7,
   "metadata": {},
   "outputs": [],
   "source": [
    "serie1 = pd.Series([1,2,3,4], [\"EUA\",\"Brasil\",\"Alemanha\",\"Italia\"])\n",
    "serie2 = pd.Series([1,2,3,4], [\"Brasil\",\"EUA\",\"Belgica\",\"Italia\"])"
   ]
  },
  {
   "cell_type": "markdown",
   "metadata": {},
   "source": [
    "Vamos somar as duas series(lembrando que nesse exemplo o indice são os países)                       \n",
    "Os países serão somados com base no índice, os países que não tiver referencia nas duas series nos torna um valor NaN.\n"
   ]
  },
  {
   "cell_type": "code",
   "execution_count": 8,
   "metadata": {},
   "outputs": [
    {
     "data": {
      "text/plain": [
       "Alemanha    NaN\n",
       "Belgica     NaN\n",
       "Brasil      3.0\n",
       "EUA         3.0\n",
       "Italia      8.0\n",
       "dtype: float64"
      ]
     },
     "execution_count": 8,
     "metadata": {},
     "output_type": "execute_result"
    }
   ],
   "source": [
    "serie1 + serie2"
   ]
  },
  {
   "cell_type": "code",
   "execution_count": null,
   "metadata": {},
   "outputs": [],
   "source": []
  }
 ],
 "metadata": {
  "kernelspec": {
   "display_name": "Python 3",
   "language": "python",
   "name": "python3"
  },
  "language_info": {
   "codemirror_mode": {
    "name": "ipython",
    "version": 3
   },
   "file_extension": ".py",
   "mimetype": "text/x-python",
   "name": "python",
   "nbconvert_exporter": "python",
   "pygments_lexer": "ipython3",
   "version": "3.8.1"
  }
 },
 "nbformat": 4,
 "nbformat_minor": 4
}
